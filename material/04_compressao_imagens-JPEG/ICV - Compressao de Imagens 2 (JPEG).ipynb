{
 "cells": [
  {
   "cell_type": "markdown",
   "metadata": {},
   "source": [
    "<h2>JPEG</h2>\n",
    "This code exemplifies some of the steps used to encode JPGE images (block DCT and quantization)"
   ]
  },
  {
   "cell_type": "markdown",
   "metadata": {
    "nbpresent": {
     "id": "6abb2ed8-9653-41f1-950a-816979ab5723"
    }
   },
   "source": [
    "<h3>Inicialização</h3>"
   ]
  },
  {
   "cell_type": "code",
   "execution_count": null,
   "metadata": {
    "nbpresent": {
     "id": "ac2538cc-80b2-406b-9dc1-376e990339e6"
    }
   },
   "outputs": [],
   "source": [
    "%matplotlib inline\n",
    "import cv2\n",
    "import numpy as np\n",
    "from matplotlib import pyplot as plt"
   ]
  },
  {
   "cell_type": "markdown",
   "metadata": {},
   "source": [
    "<h3>DCT</h3>\n",
    "http://bugra.github.io/work/notes/2014-07-12/discre-fourier-cosine-transform-dft-dct-image-compression/"
   ]
  },
  {
   "cell_type": "code",
   "execution_count": null,
   "metadata": {},
   "outputs": [],
   "source": [
    "%matplotlib inline\n",
    "import cv2\n",
    "import io\n",
    "import os\n",
    "import numpy as np\n",
    "import matplotlib.pyplot as plt\n",
    "from scipy import fftpack\n",
    "import matplotlib.image as mpimg"
   ]
  },
  {
   "cell_type": "code",
   "execution_count": null,
   "metadata": {},
   "outputs": [],
   "source": [
    "# funções auxiliares\n",
    "def get_2D_dct(img):\n",
    "    \"\"\" Get 2D Cosine Transform of Image\n",
    "    \"\"\"\n",
    "    return fftpack.dct(fftpack.dct(img.T, norm='ortho').T, norm='ortho')\n",
    "\n",
    "def get_2d_idct(coefficients):\n",
    "    \"\"\" Get 2D Inverse Cosine Transform of Image\n",
    "    \"\"\"\n",
    "    return fftpack.idct(fftpack.idct(coefficients.T, norm='ortho').T, norm='ortho')\n",
    "\n",
    "def get_reconstructed_image(raw):\n",
    "    img = raw.clip(0, 255)\n",
    "    img = img.astype('uint8')\n",
    "    img = Image.fromarray(img)\n",
    "    return img\n",
    "\n",
    "def rmse(predictions, targets):\n",
    "    return np.sqrt(((predictions - targets) ** 2).mean())\n",
    "\n",
    "\n",
    "def psnr(predictions, targets):\n",
    "    rmsev = rmse(predictions, targets)\n",
    "    return 20 * np.log10(255/rmsev)"
   ]
  },
  {
   "cell_type": "code",
   "execution_count": null,
   "metadata": {},
   "outputs": [],
   "source": [
    "# extração da DCT para a imagem\n",
    "img = cv2.imread('lena512.pgm',0)\n",
    "img = img.astype(float)\n",
    "img = img-128\n",
    "step = 8\n",
    "\n",
    "size = img.shape\n",
    "IDCT = np.zeros(size, dtype=np.float)\n",
    "DCT = np.zeros(size, dtype=np.float)\n",
    "\n",
    "for y in range(0,size[0],step):\n",
    "    for x in range(0,size[1],step):\n",
    "        dct = get_2D_dct(img[y:y+step, x:x+step])\n",
    "        idct = get_2d_idct(dct)\n",
    "        IDCT[y:y+step, x:x+step] = idct\n",
    "        DCT[y:y+step, x:x+step] = dct\n",
    "    \n",
    "img = img+128  \n",
    "IDCT = IDCT+128\n",
    "\n",
    "plt.subplot(121),plt.imshow(img, cmap = 'gray', clim=(0, 255))\n",
    "plt.title('Input image'), plt.xticks([]), plt.yticks([])\n",
    "plt.show()\n",
    "\n",
    "plt.subplot(121),plt.imshow(DCT, cmap = 'gray', clim=(0, 255))\n",
    "plt.title('DCT image'), plt.xticks([]), plt.yticks([])\n",
    "plt.show()\n",
    "\n",
    "plt.subplot(121),plt.imshow(IDCT, cmap = 'gray', clim=(0, 255))\n",
    "plt.title('Inverse DCT'), plt.xticks([]), plt.yticks([])\n",
    "plt.show()\n",
    "\n",
    "# file with the DCT output\n",
    "mpimg.imsave(\"dct.png\", DCT, 0, 255, cmap='gray')\n",
    "\n",
    "# file with the inverse of DCT\n",
    "mpimg.imsave(\"idct.png\", IDCT, 0, 255, cmap='gray')\n",
    "print (\"RMSE: %5.3f\" % rmse(img, IDCT))"
   ]
  },
  {
   "cell_type": "code",
   "execution_count": null,
   "metadata": {
    "scrolled": false
   },
   "outputs": [],
   "source": [
    "# aplicação da tabela de quantização\n",
    "np.set_printoptions(precision=3)\n",
    "np.set_printoptions(suppress=True)\n",
    "\n",
    "# quantization matrix\n",
    "QM = np.matrix([[16, 11, 10, 16, 24, 40, 51, 61], \n",
    "                [12, 12, 14, 19, 26, 58, 60, 55],\n",
    "                [14, 13, 16, 24, 40, 57, 69, 56],\n",
    "                [14, 17, 22, 29, 51, 87, 80, 62],\n",
    "                [18, 22, 37, 56, 68, 109, 103, 77],\n",
    "                [24, 35, 55, 64, 81, 104, 113, 92],\n",
    "                [49, 64, 78, 87, 103, 121, 120, 101],\n",
    "                [72, 92, 95, 98, 112, 100, 103, 99]])\n",
    "\n",
    "# poor quantization matrix\n",
    "#QM = np.matrix([[16, 220, 220, 16, 24, 40, 51, 61], \n",
    "#                [220, 220, 220, 19, 26, 58, 60, 55],\n",
    "#                [220, 220, 220, 24, 40, 57, 69, 56],\n",
    "#                [120, 17, 22, 29, 51, 87, 80, 62],\n",
    "#                [18, 22, 37, 56, 68, 109, 103, 77],\n",
    " #               [24, 35, 55, 64, 81, 104, 113, 92],\n",
    " #               [49, 64, 78, 87, 103, 121, 120, 101],\n",
    " #               [72, 92, 95, 98, 112, 100, 103, 99]])\n",
    "\n",
    "# poor quantization matrix\n",
    "#QM = np.matrix([[1000, 1000, 1000, 1000, 1000, 1, 1, 1], \n",
    "#                [1000, 1000, 1000, 1000, 1000, 1, 1, 1],\n",
    "#                [1000, 1000, 1000, 1000, 1000, 1, 1, 1],\n",
    "#                [1000, 1000, 1000, 1000, 1000, 1, 1, 1],\n",
    "#                [1000, 1000, 1000, 1, 1, 1, 1, 1],\n",
    "#                [24, 35, 1, 1, 1, 1, 1, 1],\n",
    "#                [1, 1, 1, 1, 1, 1, 1, 1],\n",
    "#                [1, 1, 1, 1, 1, 1, 1, 1]])\n",
    "\n",
    "# quantization matrix with ones\n",
    "#QM = np.ones((8,8), dtype=np.float)\n",
    "\n",
    "QM = QM.astype(float)\n",
    "\n",
    "useDC = True  # encode or not DC coefficient with DCT\n",
    "\n",
    "\n",
    "print (\"Quantization matrix:\")\n",
    "print (QM)\n",
    "\n",
    "img = img-128\n",
    "for y in range(0,size[0],step):\n",
    "    for x in range(0,size[1],step):\n",
    "        dct = get_2D_dct(img[y:y+step, x:x+step])\n",
    "        odct = dct\n",
    "        DC = dct[0,0]\n",
    "        \n",
    "        dct = np.divide(dct, QM)\n",
    "        dct = dct.round()\n",
    "        coddct = dct\n",
    "        \n",
    "        dct = np.multiply(dct, QM)\n",
    "        if (useDC == True):\n",
    "            dct[0,0] = DC         \n",
    "        IDCT[y:y+step, x:x+step] = get_2d_idct(dct)\n",
    "             \n",
    "print (\"\\nPatch after DCT:\"  )      \n",
    "print (odct)\n",
    "\n",
    "print (\"\\nPatch to be coded:\")\n",
    "print (coddct)\n",
    "\n",
    "print (\"\\nReconstructed patch:\")\n",
    "print (dct )     \n",
    "        \n",
    "IDCT = IDCT + 128  \n",
    "img = img + 128\n",
    "        \n",
    "plt.subplot(121),plt.imshow(img, cmap = 'gray', clim=(0, 255))\n",
    "plt.title('Input image'), plt.xticks([]), plt.yticks([])\n",
    "plt.show()\n",
    "\n",
    "plt.subplot(121),plt.imshow(DCT, cmap = 'gray', clim=(0, 255))\n",
    "plt.title('DCT image'), plt.xticks([]), plt.yticks([])\n",
    "plt.show()\n",
    "\n",
    "plt.subplot(121),plt.imshow(IDCT, cmap = 'gray', clim=(0, 255))\n",
    "plt.title('Inverse DCT'), plt.xticks([]), plt.yticks([])\n",
    "plt.show()\n",
    "\n",
    "#file with decoded JPEG\n",
    "mpimg.imsave(\"outJPEG.png\", IDCT, 0, 255, cmap='gray')\n",
    "\n",
    "print (\"RMSE: %5.3f\" % rmse(img, IDCT))\n",
    "print (\"PSNR: %5.3f\" % psnr(img, IDCT))"
   ]
  },
  {
   "cell_type": "code",
   "execution_count": null,
   "metadata": {},
   "outputs": [],
   "source": []
  }
 ],
 "metadata": {
  "anaconda-cloud": {},
  "kernelspec": {
   "display_name": "Python 3",
   "language": "python",
   "name": "python3"
  },
  "language_info": {
   "codemirror_mode": {
    "name": "ipython",
    "version": 3
   },
   "file_extension": ".py",
   "mimetype": "text/x-python",
   "name": "python",
   "nbconvert_exporter": "python",
   "pygments_lexer": "ipython3",
   "version": "3.6.4"
  }
 },
 "nbformat": 4,
 "nbformat_minor": 1
}
